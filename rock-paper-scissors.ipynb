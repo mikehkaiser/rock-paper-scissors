{
 "cells": [
  {
   "cell_type": "markdown",
   "id": "050c6eda",
   "metadata": {},
   "source": [
    "# Rock, Paper, Scissors"
   ]
  },
  {
   "cell_type": "code",
   "execution_count": 8,
   "id": "648a22c4",
   "metadata": {},
   "outputs": [
    {
     "ename": "IndentationError",
     "evalue": "unexpected indent (<ipython-input-8-3ee68f329630>, line 20)",
     "output_type": "error",
     "traceback": [
      "\u001b[0;36m  File \u001b[0;32m\"<ipython-input-8-3ee68f329630>\"\u001b[0;36m, line \u001b[0;32m20\u001b[0m\n\u001b[0;31m    continue\u001b[0m\n\u001b[0m    ^\u001b[0m\n\u001b[0;31mIndentationError\u001b[0m\u001b[0;31m:\u001b[0m unexpected indent\n"
     ]
    }
   ],
   "source": [
    "# Computer is randomly assigned Rock, Paper, or Scissors\n",
    "# User input for their choice\n",
    "# then conditionals, but hopefully can do it programatically\n",
    "\n",
    "import random\n",
    "from time import sleep\n",
    "from IPython.display import clear_output\n",
    "\n",
    "# Paper>Rock, Rock>Scissors, Scissors>Paper\n",
    "\n",
    "def rps():\n",
    "    elements = ['Rock', 'Paper', 'Scissors']\n",
    "    while True:\n",
    "        clear_output()\n",
    "        print(f'Welcome to the arena. You opponent awaits...')\n",
    "        sleep(1)\n",
    "        user = input(\"Choose carefully: Rock, Paper, or Scissors?\")\n",
    "        if user.lower() != 'rock' or user.lower() != 'paper' or user.lower() != 'scissors':\n",
    "            print('Please choose either Rock, Paper, or Scissors.')\n",
    "            continue\n",
    "        opponent = random.choice(elements)\n",
    "        sleep(1)\n",
    "        print('.')\n",
    "        if user.lower() == opponent.lower():\n",
    "            print(f\"You both chose {user}. It's a tie!\")\n",
    "        elif user.lower() == 'rock':\n",
    "            if opponent.lower() == 'paper':\n",
    "                print(\"The opponent's paper covers your rock. You lose...\")\n",
    "            elif opponent.lower() == 'scissors':\n",
    "                print('Rock smashes scissors. You win!')\n",
    "        elif user.lower() == 'paper':\n",
    "            if opponent.lower() == 'scissors':\n",
    "                print('Scissors cut paper. You lose...')\n",
    "            elif opponent.lower() == 'rock':\n",
    "                print('Paper covers rock. You win!')\n",
    "        elif user.lower() == 'scissors':\n",
    "            if opponent.lower() == 'rock':\n",
    "                print('Rock smashes scissors. You lose...')\n",
    "            elif opponent.lower() == 'paper':\n",
    "                print('Scissors cut paper. You win!')\n",
    "            \n",
    "        again = input('Would you like to play again? Yes or No?')\n",
    "        if again.lower() != 'yes':\n",
    "            break\n",
    "\n",
    "rps()\n"
   ]
  },
  {
   "cell_type": "code",
   "execution_count": 54,
   "id": "46df0a33",
   "metadata": {},
   "outputs": [],
   "source": [
    "import random\n",
    "from time import sleep"
   ]
  },
  {
   "cell_type": "code",
   "execution_count": null,
   "id": "89a3a4c3",
   "metadata": {},
   "outputs": [],
   "source": []
  }
 ],
 "metadata": {
  "kernelspec": {
   "display_name": "Python 3",
   "language": "python",
   "name": "python3"
  },
  "language_info": {
   "codemirror_mode": {
    "name": "ipython",
    "version": 3
   },
   "file_extension": ".py",
   "mimetype": "text/x-python",
   "name": "python",
   "nbconvert_exporter": "python",
   "pygments_lexer": "ipython3",
   "version": "3.8.8"
  }
 },
 "nbformat": 4,
 "nbformat_minor": 5
}
